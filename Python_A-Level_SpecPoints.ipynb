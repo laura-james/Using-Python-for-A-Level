{
  "cells": [
    {
      "metadata": {},
      "cell_type": "markdown",
      "source": "# Using Python to Meet the Requirement of the A Level Specifications\n\nPython is a great learning language that is very popular with programmers in a wide range of industries, from web development to engineering and science to application development. It is suitable for rapid prototyping and the basics are easy to learn, with no boilerplate and clean syntax, while being powerful enough for enterprise and academic use. \n\nThere are some areas of the specifications though that take some thought to cover without resorting to other languages, but there are no show stoppers and few difficult areas.\n"
    },
    {
      "metadata": {},
      "cell_type": "markdown",
      "source": "## Technical topics"
    },
    {
      "metadata": {},
      "cell_type": "markdown",
      "source": "1. arrays\n2. switch/case statements\n3. databases\n4. records (structs)\n5. functional programming  \n6. constants\n7. class access modifiers, getters and setters"
    },
    {
      "metadata": {},
      "cell_type": "markdown",
      "source": "## 1. Arrays\n\n### The Array module\n\nThe base install of Python includes C-type arrays, initiated with a declaration and sporting static typing. Python arrays are suitable for OCR, but are not necessary for AQA, which only requires the arry-type _item addressing_, so lists are fine.\n\nhttps://docs.python.org/3.6/library/array.html"
    },
    {
      "metadata": {
        "trusted": true
      },
      "cell_type": "code",
      "source": "import array\n\nprint(array.typecodes)",
      "execution_count": 4,
      "outputs": [
        {
          "output_type": "stream",
          "text": "bBuhHiIlLqQfd\n",
          "name": "stdout"
        }
      ]
    },
    {
      "metadata": {
        "trusted": true
      },
      "cell_type": "code",
      "source": "from array import array\n\narray1 = array('l')\narray2 = array('u', 'hello \\u2641')\narray3 = array('l', [1, 2, 3, 4, 5])",
      "execution_count": 5,
      "outputs": []
    },
    {
      "metadata": {
        "trusted": true
      },
      "cell_type": "code",
      "source": "for x in array3:\n    print(x, end=\", \")",
      "execution_count": 6,
      "outputs": [
        {
          "output_type": "stream",
          "text": "1, 2, 3, 4, 5, ",
          "name": "stdout"
        }
      ]
    },
    {
      "metadata": {},
      "cell_type": "markdown",
      "source": "Being Python, arrays are not immutable, and many of the standard list methods apply:"
    },
    {
      "metadata": {
        "trusted": true
      },
      "cell_type": "code",
      "source": "array4 = array('d', [1.0, 2.0, 3.14])\narray4.append(2.75)\nprint(array4)\nprint(\"slicing: array4[2]:\", array4[2])",
      "execution_count": 7,
      "outputs": [
        {
          "output_type": "stream",
          "text": "array('d', [1.0, 2.0, 3.14, 2.75])\nslicing: array4[2]: 3.14\n",
          "name": "stdout"
        }
      ]
    },
    {
      "metadata": {},
      "cell_type": "markdown",
      "source": "### Python Lists\n\nNative Python lists are usable for most array work, and all of it for AQA which really expects lists to be used."
    },
    {
      "metadata": {
        "trusted": false
      },
      "cell_type": "code",
      "source": "myList = list(range(6))\nprint(\"myList =         \", myList)\n\nprint(\"myList[2]:       \", myList[2])\nprint(\"myList[1:2]:     \", myList[1:2])\n\nmyList.sort(reverse=True)\nprint(\"Reversed:        \", myList)\n\nnestedList = [[1,2,3]] * 3\nprint(\"Nested list:     \", nestedList)\nprint(\"nestedList[1][2]:\", nestedList[1][2])",
      "execution_count": 5,
      "outputs": [
        {
          "name": "stdout",
          "output_type": "stream",
          "text": "myList =          [0, 1, 2, 3, 4, 5]\nmyList[2]:        2\nmyList[1:2]:      [1]\nReversed:         [5, 4, 3, 2, 1, 0]\nNested list:      [[1, 2, 3], [1, 2, 3], [1, 2, 3]]\nnestedList[1][2]: 3\n"
        }
      ]
    },
    {
      "metadata": {},
      "cell_type": "markdown",
      "source": "# 2. Switch/Case \n\nPseudocode:\n\n    switch entry:\n        case “a”:\n            print(“You selected A”)\n        case “b”:\n            print(“You selected B”)\n        case “c”:\n            print(“You selected C”)\n        case “d”:\n            print(“You selected D”)\n        default:\n            print(“Unrecognised selection”)\n    endswitch\n\nSwitch/case structures are not provided with a specific syntax in Python, but equivalent function can be achieved with if/elif/else\n\n## if / elif / else\n"
    },
    {
      "metadata": {
        "trusted": false
      },
      "cell_type": "code",
      "source": "entry = \"c\"\n\nif entry == \"a\":\n    print(\"You selected A\")\nelif entry == \"b\":\n    print(\"You selected B\")\nelif entry == \"c\":\n    print(\"You selected C\")\nelif entry == \"d\":\n    print(\"You selected D\")\nelse:\n    print(\"Unrecognised selection\")\n",
      "execution_count": 6,
      "outputs": [
        {
          "name": "stdout",
          "output_type": "stream",
          "text": "You selected C\n"
        }
      ]
    },
    {
      "metadata": {},
      "cell_type": "markdown",
      "source": "## Dictionaries\n\nDictionaries work well if a value or function is returned:"
    },
    {
      "metadata": {
        "trusted": false
      },
      "cell_type": "code",
      "source": "entry = \"c\"\n\ncase = {\n    'a': \"You selected A\",\n    'b': \"You selected B\",\n    'c': \"You selected C\",\n    'd': \"You selected D\",\n    }\nif entry in case:\n    print(case[entry])\nelse:\n    print(\"Unrecognised selection\")",
      "execution_count": 7,
      "outputs": [
        {
          "name": "stdout",
          "output_type": "stream",
          "text": "You selected C\n"
        }
      ]
    },
    {
      "metadata": {},
      "cell_type": "markdown",
      "source": "For more advanced students, lambdas allow function calls from within a compact structure:"
    },
    {
      "metadata": {
        "trusted": false
      },
      "cell_type": "code",
      "source": "entry = \"c\"\n\ncase = (lambda x:\n            print(\"You selected A\") if x=='a' else\n            print(\"You selected B\") if x=='b' else\n            print(\"You selected C\") if x=='c' else\n            print(\"You selected D\") if x=='d' else\n            print(\"Unrecognised selection\") #default return\n        )\ncase(entry)",
      "execution_count": 8,
      "outputs": [
        {
          "name": "stdout",
          "output_type": "stream",
          "text": "You selected C\n"
        }
      ]
    },
    {
      "metadata": {},
      "cell_type": "markdown",
      "source": "# Databases\n\nThere are lots of options for accessing databases with Python, but SQLite3 is installed as a base package by default. \n\nThis code below will link to a database file in memory. \nNaming as a file instead of referencing ':memory:' will create a database file instead of one in-memory. (eg. 'testDatabase.db')"
    },
    {
      "metadata": {
        "trusted": true
      },
      "cell_type": "code",
      "source": "import sqlite3\n\ndbase = sqlite3.connect(':memory:')   \n\n# Create a cursor object for interaction\ncursor = dbase.cursor()\ncursor.execute('''\n    CREATE TABLE users(id INTEGER PRIMARY KEY, name TEXT, email TEXT unique, password TEXT)\n                ''')\ndbase.commit()\n\ndbase.close()",
      "execution_count": 8,
      "outputs": []
    },
    {
      "metadata": {},
      "cell_type": "markdown",
      "source": "# Record Data Structures\n\nAQA has in its A Level specification: \"Use records (or equivalent)\", while OCR has the phrase \"Arrays, records, lists, tuples.\"\n\nRecords should have named fields which may be of different types, and ought to be immutable to enable safe passing around in a program. Im many programming cases plain _tuples_ may be a suitable alternative even without the named-fields property, using implicit tuple unpacking. \n\n## Tuples"
    },
    {
      "metadata": {
        "scrolled": true,
        "trusted": false
      },
      "cell_type": "code",
      "source": "catRecord1 = ('Snuffles', 'Tabby', 3, 4.2)\ncatRecord2 = ('Schneider', 'Black', 4, 3.6)\n\nrecords = [catRecord1, catRecord2]\n\nfor cat in records:\n    name, breed, age, weight = cat\n    print(f\"{name} is a {breed} cat and is {age} years old, weighing {weight} kilos.\")\n\nprint()\nprint('Text representation:', cat)",
      "execution_count": 10,
      "outputs": [
        {
          "name": "stdout",
          "output_type": "stream",
          "text": "Snuffles is a Tabby cat and is 3 years old, weighing 4.2 kilos.\nSchneider is a Black cat and is 4 years old, weighing 3.6 kilos.\n\nText representation: ('Schneider', 'Black', 4, 3.6)\n"
        }
      ]
    },
    {
      "metadata": {},
      "cell_type": "markdown",
      "source": "## Named Tuples\nMore useable as traditional records are named tuples, from the *collections* module.\n"
    },
    {
      "metadata": {
        "trusted": false
      },
      "cell_type": "code",
      "source": "from collections import namedtuple\n\nCat = namedtuple('Cat', 'name breed age weight')\n\ncatRecord1 = Cat('Snuffles', 'Tabby', 3, 4.2)                    # Use positional arguments ...\ncatRecord2 = Cat(name='Irene', age=4, weight=2, breed='Persian') # or named fields\n\nrecords = [catRecord1, catRecord2]\n\nname, breed, age, weight = records[0]         # tuple unpacking again\nprint(f\"{name} is a {breed} cat and is {age} years old, weighing {weight} kilos.\")\n\nname = catRecord2.name                       # ... or use attribute names\nprint(f'Cat2\\'s name is {name}.')              \nprint()\nprint(\"Text represention:\", catRecord1)",
      "execution_count": 11,
      "outputs": [
        {
          "name": "stdout",
          "output_type": "stream",
          "text": "Snuffles is a Tabby cat and is 3 years old, weighing 4.2 kilos.\nCat2's name is Irene.\n\nText represention: Cat(name='Snuffles', breed='Tabby', age=3, weight=4.2)\n"
        }
      ]
    },
    {
      "metadata": {},
      "cell_type": "markdown",
      "source": "# Functional Programming\nHaskell is a great language for demonstrating the functional programming paradigm, and Python does not have all the same structures, so we should use Haskell for this element of the specificatoin. But you can show some Haskell code re-written in Python to show it in a more familiar context. \n\n## Functions as first class objects"
    },
    {
      "metadata": {
        "trusted": false
      },
      "cell_type": "code",
      "source": "numbers = (1, 3, 5, 6, 7, 12)\nprint('The numbers are', *numbers)\n\nchoice = input('Menu \\n 1: minimum \\n 2: maximum \\nChoice:')\n\ndef func(choice):\n    if choice == 1: return min\n    else: return max              # returns a function. Note: no '()'\n        \nfunction = func(choice)\nprint('The result is', function(numbers))",
      "execution_count": 12,
      "outputs": [
        {
          "name": "stdout",
          "output_type": "stream",
          "text": "The numbers are 1 3 5 6 7 12\nMenu \n 1: minimum \n 2: maximum \nChoice:2\nThe result is 12\n"
        }
      ]
    },
    {
      "metadata": {},
      "cell_type": "markdown",
      "source": "## High order functions\n\nAQA require knowledge of map, filter and reduce or fold.\n\n### map\n\nFor example, add 5 to each element of a list with a loop, and with map:"
    },
    {
      "metadata": {
        "trusted": false
      },
      "cell_type": "code",
      "source": "itemList = [1 ,2, 3, 4, 5]\nresult = []\n\nfor item in itemList:\n    result.append(item + 5)\n\nprint(result)",
      "execution_count": 13,
      "outputs": [
        {
          "name": "stdout",
          "output_type": "stream",
          "text": "[6, 7, 8, 9, 10]\n"
        }
      ]
    },
    {
      "metadata": {
        "trusted": false
      },
      "cell_type": "code",
      "source": "def func(x): return x + 5\n\nlist(map(func, [1, 2, 3, 4, 5]))",
      "execution_count": 14,
      "outputs": [
        {
          "data": {
            "text/plain": "[6, 7, 8, 9, 10]"
          },
          "execution_count": 14,
          "metadata": {},
          "output_type": "execute_result"
        }
      ]
    },
    {
      "metadata": {},
      "cell_type": "markdown",
      "source": "Anonymous lambda functions can be used in place of the function, like the Haskell function:\n\n    map (+5) [1 ,2, 3, 4, 5]\n    \n'map' returns an interator, so Python needs the 'list' function if you want it as a list. Alternatively, use a list comprehension."
    },
    {
      "metadata": {
        "trusted": false
      },
      "cell_type": "code",
      "source": "list(map(lambda x : x + 5, [1, 2, 3, 4, 5]))\n\n",
      "execution_count": 15,
      "outputs": [
        {
          "data": {
            "text/plain": "[6, 7, 8, 9, 10]"
          },
          "execution_count": 15,
          "metadata": {},
          "output_type": "execute_result"
        }
      ]
    },
    {
      "metadata": {
        "trusted": false
      },
      "cell_type": "code",
      "source": "[x + 5 for x in [1, 2, 3, 4, 5]]    # list comprehension",
      "execution_count": 16,
      "outputs": [
        {
          "data": {
            "text/plain": "[6, 7, 8, 9, 10]"
          },
          "execution_count": 16,
          "metadata": {},
          "output_type": "execute_result"
        }
      ]
    },
    {
      "metadata": {},
      "cell_type": "markdown",
      "source": "### Filter\n\nFilters out values using a conditional expression, like the Haskell expression:\n\n    filter (>3) [1..5]"
    },
    {
      "metadata": {
        "trusted": false
      },
      "cell_type": "code",
      "source": "def test(x): return x > 3\n\nlist(filter(test, range(6)))",
      "execution_count": 17,
      "outputs": [
        {
          "data": {
            "text/plain": "[4, 5]"
          },
          "execution_count": 17,
          "metadata": {},
          "output_type": "execute_result"
        }
      ]
    },
    {
      "metadata": {
        "trusted": false
      },
      "cell_type": "code",
      "source": "list(filter(lambda x : x > 3, range(6)))",
      "execution_count": 18,
      "outputs": [
        {
          "data": {
            "text/plain": "[4, 5]"
          },
          "execution_count": 18,
          "metadata": {},
          "output_type": "execute_result"
        }
      ]
    },
    {
      "metadata": {
        "trusted": false
      },
      "cell_type": "code",
      "source": "[x for x in [1, 2, 3, 4, 5] if x > 3]",
      "execution_count": 19,
      "outputs": [
        {
          "data": {
            "text/plain": "[4, 5]"
          },
          "execution_count": 19,
          "metadata": {},
          "output_type": "execute_result"
        }
      ]
    },
    {
      "metadata": {},
      "cell_type": "markdown",
      "source": "### Reduce \n*reduce* is included in the *functools* module, and operates as the Haskell *foldl*:\n\n    foldl (*) 1 [1, 2, 3, 4, 5, 6]"
    },
    {
      "metadata": {
        "trusted": false
      },
      "cell_type": "code",
      "source": "from functools import reduce\n\ndef func(x, y): return x * y\n\nreduce(func, [1, 2, 3, 4, 5, 6], 1)",
      "execution_count": 20,
      "outputs": [
        {
          "data": {
            "text/plain": "720"
          },
          "execution_count": 20,
          "metadata": {},
          "output_type": "execute_result"
        }
      ]
    },
    {
      "metadata": {
        "trusted": false
      },
      "cell_type": "code",
      "source": "reduce(lambda x, y : x * y, [1, 2, 3, 4, 5, 6], 1)",
      "execution_count": 21,
      "outputs": [
        {
          "data": {
            "text/plain": "720"
          },
          "execution_count": 21,
          "metadata": {},
          "output_type": "execute_result"
        }
      ]
    },
    {
      "metadata": {},
      "cell_type": "markdown",
      "source": "# 6. Constants\n\nEnforcing constants is not something that is normally considered with Python — the standard programming style is to use ALL_CAPS to indicate an identifier that programmers shouldn't reassign to another value. No more needs to be done to satisfy exam boards.\n\n## Defining 'Constants' with ALL CAPS"
    },
    {
      "metadata": {
        "trusted": false
      },
      "cell_type": "code",
      "source": "MATRIX_SIZE = 3\n\nmatrix1 = [ [0]*MATRIX_SIZE for _ in range(MATRIX_SIZE)] \nprint(matrix1)",
      "execution_count": 22,
      "outputs": [
        {
          "name": "stdout",
          "output_type": "stream",
          "text": "[[0, 0, 0], [0, 0, 0], [0, 0, 0]]\n"
        }
      ]
    },
    {
      "metadata": {},
      "cell_type": "markdown",
      "source": "## Defining Constants with Enum\n\nIt is possible to enforce constants if you wish, using the Enum class, which also tidies away constants into a class definition."
    },
    {
      "metadata": {
        "trusted": false
      },
      "cell_type": "code",
      "source": "from enum import Enum\n\nclass const(Enum):\n    pi = 3.14159\n    z = \"zed\"\n    L = [1, 2, 3]\n\nprint(*const)",
      "execution_count": 23,
      "outputs": [
        {
          "name": "stdout",
          "output_type": "stream",
          "text": "const.pi const.z const.L\n"
        }
      ]
    },
    {
      "metadata": {},
      "cell_type": "markdown",
      "source": "The Enum class is iterable while the constants can be accessed using the name.value attributes."
    },
    {
      "metadata": {
        "trusted": false
      },
      "cell_type": "code",
      "source": "for C in const:\n    print(f\"{C} = {C.value}\")\n    \nradius = 4.0\narea = 2 * const.pi.value * radius**2\nprint(f\"\\nArea = {area}\")\n\n# attempt to reassign member raises an exception, remove the # below to test:\n# const.e = 3",
      "execution_count": 24,
      "outputs": [
        {
          "name": "stdout",
          "output_type": "stream",
          "text": "const.pi = 3.14159\nconst.z = zed\nconst.L = [1, 2, 3]\n\nArea = 100.53088\n"
        }
      ]
    },
    {
      "metadata": {},
      "cell_type": "markdown",
      "source": "# Class Access Modifiers\n\nLike CONSTANTS, class access modifiers do not prevent direct assess of attributes and methods, instead they indicate to programmers what should and shouldn't be accessed. Protected names are written with a single leading underscore (eg `self._data = [ ]`) with private names having double underscores as in `def __private_method(self):`.\n\nSingle underscores show in the name that it should be considered protected, while double underscored names are name-mangled to make access from outside the class instances more onerous."
    },
    {
      "metadata": {
        "trusted": false
      },
      "cell_type": "code",
      "source": "class Person:\n    def __init__(self, name, age=None):\n        self.name = name\n        self._age = age                   # protected attribute\n        \n    def __lower_age(self, by_years=10):   # private method\n        self._age -= by_years\n        \nstaff1 = Person('Alice', age=40)\nprint(f\"The new employee is {staff1.name}, age {staff1._age}\")",
      "execution_count": 25,
      "outputs": [
        {
          "name": "stdout",
          "output_type": "stream",
          "text": "The new employee is Alice, age 40\n"
        }
      ]
    },
    {
      "metadata": {},
      "cell_type": "markdown",
      "source": "The private method can be accessed from outside the class, following the name mangling rules, adding in the class name, so `staff1.__lower_age()` becomes `staff._person__lower_age()`. In practice, 'protected' is sufficient for most purposes."
    },
    {
      "metadata": {
        "trusted": false
      },
      "cell_type": "code",
      "source": "#staff1.__lower_age(11) # will raise an error\n\nstaff1._Person__lower_age(11) # works as intended\nprint(f\"Age is now {staff1._age}\")",
      "execution_count": 26,
      "outputs": [
        {
          "name": "stdout",
          "output_type": "stream",
          "text": "Age is now 29\n"
        }
      ]
    },
    {
      "metadata": {},
      "cell_type": "markdown",
      "source": "## Getters and Setters\n\nGetters and setter methods are rare in Python, since direct attribute access is so easy and access cannot be prevented."
    },
    {
      "metadata": {
        "trusted": false
      },
      "cell_type": "code",
      "source": "class Person:\n    def __init__(self, name, age=None):\n        self.name = name\n        self.age = age    # note, this is a public attribute as part of the interface\n        \n# instantiate without an age, adding it later:\n\nstaff2 = Person('Bob')  \nstaff2.age = 37\nprint(f\"{staff2.name} is {staff2.age} years old\")",
      "execution_count": 27,
      "outputs": [
        {
          "name": "stdout",
          "output_type": "stream",
          "text": "Bob is 37 years old\n"
        }
      ]
    },
    {
      "metadata": {},
      "cell_type": "markdown",
      "source": "A setter method would let you validate the age before assigning it, so setters (and getters) can be written without having to change how you access the attribute. Use the `property` function to associate these with the attribute, and mark the original attribute as protected in the init method. \n\nWhen direct access is attempted, the call is intercepted and passed to the getter or setter functions. This allows you to use the simple direct assess initially, then adding the complexity of the getter/setter methods later when necessary, without breaking the common direct attribute access used elsewhere in the code base."
    },
    {
      "metadata": {
        "trusted": false
      },
      "cell_type": "code",
      "source": "class Person:\n    def __init__(self, name, age=None):\n        self.name = name\n        self._age = age          # note the underscore has been added\n        \n    def get_age(self):\n        print('Getter called')\n        return self._age\n\n    def set_age(self, age):\n        print('Setter called')\n        if age and not 0 < age < 130:\n            raise ValueError(\"Age out of range: 0, 130 years\")\n        self._age = int(age)\n        \n    age = property(fget=get_age, fset=set_age)\n\nprint('Instantiating...  ', end='')\nstaff2 = Person('Bob')  \nprint(f\"Current age is '{staff2.age}'\")\n\nstaff2.age = 37\nprint(f\"Current age is '{staff2.age}'\")",
      "execution_count": 28,
      "outputs": [
        {
          "name": "stdout",
          "output_type": "stream",
          "text": "Instantiating...  Getter called\nCurrent age is 'None'\nSetter called\nGetter called\nCurrent age is '37'\n"
        }
      ]
    },
    {
      "metadata": {},
      "cell_type": "markdown",
      "source": "There is some syntactic sugar to make this code easier to read so you can, instead of calling the function directly, mark the getter and setter with `@property` and `@<attribute>.setter` decorators."
    },
    {
      "metadata": {
        "trusted": false
      },
      "cell_type": "code",
      "source": "class Person:\n    def __init__(self, name, age=None):\n        self.name = name\n        self._age = age         # note the underscore now\n    \n    @property\n    def age(self):              # both the setter and getter functions have \n        print('Getter called')  # the same name as the previously public attribute\n        return self._age\n        \n    @age.setter\n    def age(self, age):\n        print('Setter called')\n        if age and not 0 < age < 130:\n            raise ValueError(\"Age out of range: 0, 130 years\")\n        self._age = int(age)\n\nprint('Instantiating...  ', end='')\nstaff2 = Person('Bob')  \nprint(f\"Current age is '{staff2.age}'\")\n\nstaff2.age = 37\nprint(f\"Current age is '{staff2.age}'\")",
      "execution_count": 29,
      "outputs": [
        {
          "name": "stdout",
          "output_type": "stream",
          "text": "Instantiating...  Getter called\nCurrent age is 'None'\nSetter called\nGetter called\nCurrent age is '37'\n"
        }
      ]
    }
  ],
  "metadata": {
    "kernelspec": {
      "name": "python3",
      "display_name": "Python 3",
      "language": "python"
    },
    "language_info": {
      "mimetype": "text/x-python",
      "nbconvert_exporter": "python",
      "name": "python",
      "pygments_lexer": "ipython3",
      "version": "3.5.4",
      "file_extension": ".py",
      "codemirror_mode": {
        "version": 3,
        "name": "ipython"
      }
    }
  },
  "nbformat": 4,
  "nbformat_minor": 2
}